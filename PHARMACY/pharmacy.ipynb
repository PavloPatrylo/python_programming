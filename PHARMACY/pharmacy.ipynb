{
 "cells": [
  {
   "cell_type": "code",
   "execution_count": 1,
   "metadata": {},
   "outputs": [],
   "source": [
    "import pandas as pd\n",
    "from IPython.display import display\n",
    "import ipywidgets as widgets\n",
    "from ipywidgets import interactive, interactive_output, fixed, IntSlider, FloatSlider\n",
    "import matplotlib.pyplot as plt\n",
    "\n",
    "\n"
   ]
  },
  {
   "cell_type": "code",
   "execution_count": 2,
   "metadata": {},
   "outputs": [
    {
     "data": {
      "text/html": [
       "<div>\n",
       "<style scoped>\n",
       "    .dataframe tbody tr th:only-of-type {\n",
       "        vertical-align: middle;\n",
       "    }\n",
       "\n",
       "    .dataframe tbody tr th {\n",
       "        vertical-align: top;\n",
       "    }\n",
       "\n",
       "    .dataframe thead th {\n",
       "        text-align: right;\n",
       "    }\n",
       "</style>\n",
       "<table border=\"1\" class=\"dataframe\">\n",
       "  <thead>\n",
       "    <tr style=\"text-align: right;\">\n",
       "      <th></th>\n",
       "      <th>id</th>\n",
       "      <th>quantity</th>\n",
       "      <th>is_corporate</th>\n",
       "    </tr>\n",
       "  </thead>\n",
       "  <tbody>\n",
       "    <tr>\n",
       "      <th>0</th>\n",
       "      <td>1</td>\n",
       "      <td>10</td>\n",
       "      <td>yes</td>\n",
       "    </tr>\n",
       "    <tr>\n",
       "      <th>1</th>\n",
       "      <td>2</td>\n",
       "      <td>5</td>\n",
       "      <td>no</td>\n",
       "    </tr>\n",
       "    <tr>\n",
       "      <th>2</th>\n",
       "      <td>3</td>\n",
       "      <td>8</td>\n",
       "      <td>no</td>\n",
       "    </tr>\n",
       "    <tr>\n",
       "      <th>3</th>\n",
       "      <td>4</td>\n",
       "      <td>2</td>\n",
       "      <td>yes</td>\n",
       "    </tr>\n",
       "    <tr>\n",
       "      <th>4</th>\n",
       "      <td>5</td>\n",
       "      <td>1</td>\n",
       "      <td>no</td>\n",
       "    </tr>\n",
       "  </tbody>\n",
       "</table>\n",
       "</div>"
      ],
      "text/plain": [
       "   id  quantity is_corporate\n",
       "0   1        10          yes\n",
       "1   2         5           no\n",
       "2   3         8           no\n",
       "3   4         2          yes\n",
       "4   5         1           no"
      ]
     },
     "metadata": {},
     "output_type": "display_data"
    }
   ],
   "source": [
    "assortment = pd.read_csv('assortment.csv')\n",
    "tarif = pd.read_csv('tariffs.csv')\n",
    "sales1 = pd.read_csv('sales_part1.csv')\n",
    "sales2 = pd.read_csv('sales_part2.csv')\n",
    "sales = pd.concat([sales1, sales2], ignore_index=True)\n",
    "\n",
    "\n",
    "display(sales)\n"
   ]
  },
  {
   "cell_type": "code",
   "execution_count": 3,
   "metadata": {},
   "outputs": [
    {
     "name": "stdout",
     "output_type": "stream",
     "text": [
      "   id         name     category  price  discount  quantity is_corporate\n",
      "0   1      Аспірин  Анальгетики   50.0        10        10          yes\n",
      "1   2  Парацетамол  Анальгетики   30.0         5         5           no\n",
      "2   3     Квадевіт     Вітаміни   40.0         0         8           no\n",
      "3   4  Амоксицилін  Антибіотики  100.0        15         2          yes\n",
      "4   5  Азитроміцин  Антибіотики  120.0        20         1           no\n"
     ]
    }
   ],
   "source": [
    "data1 = pd.merge(assortment,tarif , on='id')\n",
    "data = pd.merge(data1, sales, on='id')\n",
    "\n",
    "print(data)"
   ]
  },
  {
   "cell_type": "code",
   "execution_count": 4,
   "metadata": {},
   "outputs": [
    {
     "name": "stdout",
     "output_type": "stream",
     "text": [
      "   id         name     category  price  discount  quantity is_corporate\n",
      "0   1      Аспірин  Анальгетики   45.0        10        10          yes\n",
      "1   2  Парацетамол  Анальгетики   30.0         5         5           no\n",
      "2   3     Квадевіт     Вітаміни   40.0         0         8           no\n",
      "3   4  Амоксицилін  Антибіотики   85.0        15         2          yes\n",
      "4   5  Азитроміцин  Антибіотики  120.0        20         1           no\n"
     ]
    }
   ],
   "source": [
    "def for_corporate():\n",
    "    # Обчислення ціни для корпоративних клієнтів\n",
    "    data.loc[data['is_corporate'] == 'yes', 'price'] = data['price'] * (1 - data['discount'] * 0.01)\n",
    "    return data\n",
    "\n",
    "# Виклик функції та друк результату\n",
    "print(for_corporate())"
   ]
  },
  {
   "cell_type": "code",
   "execution_count": 20,
   "metadata": {},
   "outputs": [
    {
     "data": {
      "application/vnd.jupyter.widget-view+json": {
       "model_id": "dd86e187be764150b374207819c87805",
       "version_major": 2,
       "version_minor": 0
      },
      "text/plain": [
       "interactive(children=(Dropdown(description='Категорії', options=('Анальгетики', 'Вітаміни', 'Антибіотики'), va…"
      ]
     },
     "metadata": {},
     "output_type": "display_data"
    }
   ],
   "source": [
    "\n",
    "# Створення віджета Dropdown\n",
    "wd = widgets.Dropdown(\n",
    "    options=data['category'].unique(),\n",
    "    value=data['category'].iloc[0],\n",
    "    description='Категорії',\n",
    "    disabled=False\n",
    ")\n",
    "\n",
    "# Функція для відображення даних відповідно до вибраної категорії\n",
    "def show_by_category(value):\n",
    "    if value in data['category'].values:\n",
    "        result = data[data['category']==value]\n",
    "        display(result[['name','price']])\n",
    "\n",
    "widget= widgets.interactive(show_by_category, value=wd)\n",
    "\n",
    "display(widget)\n"
   ]
  },
  {
   "cell_type": "code",
   "execution_count": 6,
   "metadata": {},
   "outputs": [
    {
     "name": "stdout",
     "output_type": "stream",
     "text": [
      "             price  quantity\n",
      "category                    \n",
      "Анальгетики   75.0        15\n",
      "Антибіотики  205.0         3\n",
      "Вітаміни      40.0         8\n",
      "      category    summ\n",
      "0  Анальгетики  1125.0\n",
      "1  Антибіотики   615.0\n",
      "2     Вітаміни   320.0\n"
     ]
    },
    {
     "data": {
      "image/png": "[encoded data removed]",
      "text/plain": [
       "<Figure size 640x480 with 1 Axes>"
      ]
     },
     "metadata": {},
     "output_type": "display_data"
    }
   ],
   "source": [
    "def category_summ():\n",
    "    filtred = data.groupby('category')[['price', 'quantity']].sum()\n",
    "    print(filtred)\n",
    "    filtred['summ'] = filtred['price'] * filtred['quantity']\n",
    "    filtred = filtred.reset_index()\n",
    "    print(filtred[['category', 'summ']])\n",
    "\n",
    "    bar_graph(filtred['summ'], filtred['category'])\n",
    "\n",
    "\n",
    "\n",
    "def bar_graph(a, b):\n",
    "    plt.bar(b,a, color='black')\n",
    "    plt.show()\n",
    "category_summ()\n"
   ]
  },
  {
   "cell_type": "code",
   "execution_count": 7,
   "metadata": {},
   "outputs": [
    {
     "name": "stdout",
     "output_type": "stream",
     "text": [
      "      category         name   summ\n",
      "0  Анальгетики      Аспірин  450.0\n",
      "1  Антибіотики  Амоксицилін  170.0\n"
     ]
    }
   ],
   "source": [
    "data['summ'] = data['price'] * data['quantity']\n",
    "\n",
    "def max_summ_by_category():\n",
    "    filtred = data[data['is_corporate'] == 'yes']\n",
    "    \n",
    "    grouped = filtred.groupby(['category', 'name'])['summ'].sum().reset_index()\n",
    "    \n",
    "    grouped = grouped.sort_values(by=['category', 'summ'], ascending=[True, False])\n",
    "    \n",
    "    result = grouped.groupby('category').first().reset_index()\n",
    "    \n",
    "    print(result[['category', 'name', 'summ']])\n",
    "max_summ_by_category()"
   ]
  },
  {
   "cell_type": "code",
   "execution_count": 8,
   "metadata": {},
   "outputs": [
    {
     "data": {
      "text/html": [
       "<div>\n",
       "<style scoped>\n",
       "    .dataframe tbody tr th:only-of-type {\n",
       "        vertical-align: middle;\n",
       "    }\n",
       "\n",
       "    .dataframe tbody tr th {\n",
       "        vertical-align: top;\n",
       "    }\n",
       "\n",
       "    .dataframe thead th {\n",
       "        text-align: right;\n",
       "    }\n",
       "</style>\n",
       "<table border=\"1\" class=\"dataframe\">\n",
       "  <thead>\n",
       "    <tr style=\"text-align: right;\">\n",
       "      <th></th>\n",
       "      <th>category</th>\n",
       "      <th>summ</th>\n",
       "    </tr>\n",
       "  </thead>\n",
       "  <tbody>\n",
       "    <tr>\n",
       "      <th>0</th>\n",
       "      <td>Анальгетики</td>\n",
       "      <td>450.0</td>\n",
       "    </tr>\n",
       "    <tr>\n",
       "      <th>1</th>\n",
       "      <td>Антибіотики</td>\n",
       "      <td>170.0</td>\n",
       "    </tr>\n",
       "  </tbody>\n",
       "</table>\n",
       "</div>"
      ],
      "text/plain": [
       "      category   summ\n",
       "0  Анальгетики  450.0\n",
       "1  Антибіотики  170.0"
      ]
     },
     "metadata": {},
     "output_type": "display_data"
    }
   ],
   "source": [
    "def sales_corporate():\n",
    "    filtred = data[(data['is_corporate'] == 'yes')]\n",
    "    grouped = filtred.groupby('category')['summ'].sum().reset_index()\n",
    "    display(grouped)\n",
    "sales_corporate()"
   ]
  },
  {
   "cell_type": "code",
   "execution_count": 9,
   "metadata": {},
   "outputs": [
    {
     "name": "stdout",
     "output_type": "stream",
     "text": [
      "Сума продажів для корпоративних клієнтів: 620.0\n"
     ]
    }
   ],
   "source": [
    "def summary_corporate():\n",
    "    filtred = data[(data['is_corporate']=='yes')]\n",
    "    result = filtred['summ'].sum()\n",
    "    print(f'Сума продажів для корпоративних клієнтів: {result}')\n",
    "summary_corporate()"
   ]
  },
  {
   "cell_type": "code",
   "execution_count": null,
   "metadata": {},
   "outputs": [
    {
     "data": {
      "application/vnd.jupyter.widget-view+json": {
       "model_id": "0ea01a0745ef4a519d7af0124bc13fb0",
       "version_major": 2,
       "version_minor": 0
      },
      "text/plain": [
       "interactive(children=(Dropdown(description='Категорії', options=('Анальгетики', 'Вітаміни', 'Антибіотики'), va…"
      ]
     },
     "metadata": {},
     "output_type": "display_data"
    }
   ],
   "source": [
    "filtred = data[(data['is_corporate']=='no')]\n",
    "\n",
    "\n",
    "wd = widgets.Dropdown(\n",
    "    options=data['category'].unique(),\n",
    "    value=data['category'].iloc[0],\n",
    "    description='Категорії',\n",
    "    disabled=False\n",
    ")\n",
    "\n",
    "def show_by_category(value):\n",
    "    if value in data['category'].values:\n",
    "        result = filtred[filtred['category'] == value]\n",
    "        display(result['name'])\n",
    "\n",
    "widget= widgets.interactive(show_by_category, value=wd)\n",
    "\n",
    "display(widget)"
   ]
  },
  {
   "cell_type": "code",
   "execution_count": 11,
   "metadata": {},
   "outputs": [
    {
     "name": "stdout",
     "output_type": "stream",
     "text": [
      "ID: 1.0, Price: 50.0, Discount: 10.0\n",
      "ID: 2.0, Price: 30.0, Discount: 5.0\n",
      "ID: 3.0, Price: 40.0, Discount: 0.0\n",
      "ID: 4.0, Price: 100.0, Discount: 15.0\n",
      "ID: 5.0, Price: 120.0, Discount: 20.0\n"
     ]
    }
   ],
   "source": [
    "df = pd.read_csv('tariffs.csv')\n",
    "\n",
    "class Product:\n",
    "    def __init__(self, id, price, discount):\n",
    "        self._id = id\n",
    "        self._price = price\n",
    "        self._discount = discount\n",
    "\n",
    "    # Геттер для id\n",
    "    @property\n",
    "    def id(self):\n",
    "        return self._id\n",
    "\n",
    "    # Сеттер для id\n",
    "    @id.setter\n",
    "    def id(self, value):\n",
    "        self._id = value\n",
    "\n",
    "    # Геттер для price\n",
    "    @property\n",
    "    def price(self):\n",
    "        return self._price\n",
    "\n",
    "    # Сеттер для price\n",
    "    @price.setter\n",
    "    def price(self, value):\n",
    "        self._price = value\n",
    "\n",
    "    # Геттер для discount\n",
    "    @property\n",
    "    def discount(self):\n",
    "        return self._discount\n",
    "\n",
    "    # Сеттер для discount\n",
    "    @discount.setter\n",
    "    def discount(self, value):\n",
    "        self._discount = value\n",
    "\n",
    "# Створення списку об'єктів Product із DataFrame\n",
    "products = [Product(row['id'], row['price'], row['discount']) for _, row in df.iterrows()]\n",
    "\n",
    "# Перевірка створених об'єктів\n",
    "for product in products:\n",
    "    print(f\"ID: {product.id}, Price: {product.price}, Discount: {product.discount}\")\n",
    "\n"
   ]
  },
  {
   "cell_type": "code",
   "execution_count": 12,
   "metadata": {},
   "outputs": [
    {
     "name": "stderr",
     "output_type": "stream",
     "text": [
      "......\n",
      "----------------------------------------------------------------------\n",
      "Ran 6 tests in 0.004s\n",
      "\n",
      "OK\n"
     ]
    }
   ],
   "source": [
    "import unittest\n",
    "\n",
    "class TestProduct(unittest.TestCase):\n",
    "    def setUp(self):\n",
    "        # Створення тестового об'єкта Product\n",
    "        self.product = Product(id=1, price=50.00, discount=10)\n",
    "\n",
    "    def test_get_id(self):\n",
    "        self.assertEqual(self.product.id, 1)\n",
    "\n",
    "    def test_set_id(self):\n",
    "        self.product.id = 2\n",
    "        self.assertEqual(self.product.id, 2)\n",
    "\n",
    "    def test_get_price(self):\n",
    "        self.assertEqual(self.product.price, 50.00)\n",
    "\n",
    "    def test_set_price(self):\n",
    "        self.product.price = 60.00\n",
    "        self.assertEqual(self.product.price, 60.00)\n",
    "\n",
    "    def test_get_discount(self):\n",
    "        self.assertEqual(self.product.discount, 10)\n",
    "\n",
    "    def test_set_discount(self):\n",
    "        self.product.discount = 15\n",
    "        self.assertEqual(self.product.discount, 15)\n",
    "\n",
    "# Запуск тестів у Jupyter Notebook без завершення роботи ядра\n",
    "if __name__ == '__main__':\n",
    "    unittest.main(argv=[''], exit=False)\n"
   ]
  }
 ],
 "metadata": {
  "kernelspec": {
   "display_name": "Python 3",
   "language": "python",
   "name": "python3"
  },
  "language_info": {
   "codemirror_mode": {
    "name": "ipython",
    "version": 3
   },
   "file_extension": ".py",
   "mimetype": "text/x-python",
   "name": "python",
   "nbconvert_exporter": "python",
   "pygments_lexer": "ipython3",
   "version": "3.11.5"
  }
 },
 "nbformat": 4,
 "nbformat_minor": 2
}

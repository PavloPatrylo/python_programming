{
 "cells": [
  {
   "cell_type": "code",
   "execution_count": 32,
   "metadata": {},
   "outputs": [],
   "source": [
    "import pandas as pd\n"
   ]
  },
  {
   "cell_type": "code",
   "execution_count": 33,
   "metadata": {},
   "outputs": [],
   "source": [
    "data = pd.read_csv('dates.csv')\n",
    "\n",
    "# Convert 'date' column to datetime format\n",
    "data['first'] = pd.to_datetime(data['first'])\n",
    "data['last'] = pd.to_datetime(data['last'])\n",
    "\n",
    "# Extract year, month, day, day of week, and week number\n",
    "copy = data.copy()\n",
    "copy['year'] = copy['first'].dt.year\n",
    "copy['month'] = copy['first'].dt.month\n",
    "copy['day'] = copy['first'].dt.day\n",
    "copy['day_of_week'] = copy['first'].dt.day_name()\n",
    "copy['week_number'] = copy['first'].dt.isocalendar().week"
   ]
  },
  {
   "cell_type": "code",
   "execution_count": 34,
   "metadata": {},
   "outputs": [
    {
     "name": "stdout",
     "output_type": "stream",
     "text": [
      "   id      first       last\n",
      "0   1 2024-02-08 2024-02-08\n",
      "1   2 2024-02-08 2024-02-10\n",
      "2   3 2024-02-08 2024-02-20\n",
      "3   4 2024-02-08 2024-03-09\n",
      "4   5 2024-02-08 2026-09-29\n"
     ]
    }
   ],
   "source": [
    "print(data)"
   ]
  },
  {
   "cell_type": "code",
   "execution_count": 35,
   "metadata": {},
   "outputs": [
    {
     "name": "stdout",
     "output_type": "stream",
     "text": [
      "   id      first       last  year  month  day day_of_week  week_number\n",
      "0   1 2024-02-08 2024-02-08  2024      2    8    Thursday            6\n",
      "1   2 2024-02-08 2024-02-10  2024      2    8    Thursday            6\n",
      "2   3 2024-02-08 2024-02-20  2024      2    8    Thursday            6\n",
      "3   4 2024-02-08 2024-03-09  2024      2    8    Thursday            6\n",
      "4   5 2024-02-08 2026-09-29  2024      2    8    Thursday            6\n"
     ]
    }
   ],
   "source": [
    "print(copy)"
   ]
  },
  {
   "cell_type": "code",
   "execution_count": 36,
   "metadata": {},
   "outputs": [
    {
     "name": "stdout",
     "output_type": "stream",
     "text": [
      "0      0\n",
      "1      2\n",
      "2     12\n",
      "3     30\n",
      "4    964\n",
      "dtype: int64\n"
     ]
    }
   ],
   "source": [
    "# різниця між датами, для того, доб дізнатись різницю в роках потрібно - //365\n",
    "result = (data['last'] - data['first']).dt.days \n",
    "print(result)"
   ]
  },
  {
   "cell_type": "code",
   "execution_count": 39,
   "metadata": {},
   "outputs": [
    {
     "name": "stdout",
     "output_type": "stream",
     "text": [
      "       first  id       last\n",
      "0 2024-02-08   5 2026-09-29\n"
     ]
    }
   ],
   "source": [
    "# Перетворення колонок 'first' і 'last' у тип datetime\n",
    "data['first'] = pd.to_datetime(data['first'])\n",
    "data['last'] = pd.to_datetime(data['last'])\n",
    "\n",
    "# Групування за стовпцем 'first'\n",
    "res = data.groupby('first').agg({\n",
    "    'id': 'count',  # Підрахунок кількості записів для кожної дати\n",
    "    'last': 'last'  # Для стовпця 'last' виводимо останнє значення в кожній групі\n",
    "}).reset_index()\n",
    "\n",
    "# Виведення результату\n",
    "print(res)"
   ]
  }
 ],
 "metadata": {
  "kernelspec": {
   "display_name": "Python 3",
   "language": "python",
   "name": "python3"
  },
  "language_info": {
   "codemirror_mode": {
    "name": "ipython",
    "version": 3
   },
   "file_extension": ".py",
   "mimetype": "text/x-python",
   "name": "python",
   "nbconvert_exporter": "python",
   "pygments_lexer": "ipython3",
   "version": "3.11.5"
  }
 },
 "nbformat": 4,
 "nbformat_minor": 2
}

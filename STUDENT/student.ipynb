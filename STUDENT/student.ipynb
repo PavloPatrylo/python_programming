{
 "cells": [
  {
   "cell_type": "code",
   "execution_count": 1,
   "metadata": {},
   "outputs": [],
   "source": [
    "import pandas as pd\n",
    "from IPython.display import display\n",
    "import ipywidgets as widgets\n",
    "import matplotlib.pyplot as plt"
   ]
  },
  {
   "cell_type": "code",
   "execution_count": 2,
   "metadata": {},
   "outputs": [
    {
     "data": {
      "text/html": [
       "<div>\n",
       "<style scoped>\n",
       "    .dataframe tbody tr th:only-of-type {\n",
       "        vertical-align: middle;\n",
       "    }\n",
       "\n",
       "    .dataframe tbody tr th {\n",
       "        vertical-align: top;\n",
       "    }\n",
       "\n",
       "    .dataframe thead th {\n",
       "        text-align: right;\n",
       "    }\n",
       "</style>\n",
       "<table border=\"1\" class=\"dataframe\">\n",
       "  <thead>\n",
       "    <tr style=\"text-align: right;\">\n",
       "      <th></th>\n",
       "      <th>studID</th>\n",
       "      <th>name</th>\n",
       "    </tr>\n",
       "  </thead>\n",
       "  <tbody>\n",
       "    <tr>\n",
       "      <th>0</th>\n",
       "      <td>1</td>\n",
       "      <td>paul patrylo</td>\n",
       "    </tr>\n",
       "    <tr>\n",
       "      <th>1</th>\n",
       "      <td>2</td>\n",
       "      <td>denys lukianchuk</td>\n",
       "    </tr>\n",
       "    <tr>\n",
       "      <th>2</th>\n",
       "      <td>3</td>\n",
       "      <td>max boyko</td>\n",
       "    </tr>\n",
       "  </tbody>\n",
       "</table>\n",
       "</div>"
      ],
      "text/plain": [
       "   studID              name\n",
       "0       1      paul patrylo\n",
       "1       2  denys lukianchuk\n",
       "2       3         max boyko"
      ]
     },
     "execution_count": 2,
     "metadata": {},
     "output_type": "execute_result"
    }
   ],
   "source": [
    "students = pd.read_csv('students.csv')\n",
    "task01 = pd.read_csv('task01.csv')\n",
    "task02 = pd.read_csv('task2.csv')\n",
    "task03 = pd.read_csv('task3.csv')\n",
    "task04 = pd.read_csv('task4.csv')\n",
    "\n",
    "students"
   ]
  },
  {
   "cell_type": "code",
   "execution_count": 3,
   "metadata": {},
   "outputs": [
    {
     "data": {
      "text/html": [
       "<div>\n",
       "<style scoped>\n",
       "    .dataframe tbody tr th:only-of-type {\n",
       "        vertical-align: middle;\n",
       "    }\n",
       "\n",
       "    .dataframe tbody tr th {\n",
       "        vertical-align: top;\n",
       "    }\n",
       "\n",
       "    .dataframe thead th {\n",
       "        text-align: right;\n",
       "    }\n",
       "</style>\n",
       "<table border=\"1\" class=\"dataframe\">\n",
       "  <thead>\n",
       "    <tr style=\"text-align: right;\">\n",
       "      <th></th>\n",
       "      <th>studID</th>\n",
       "      <th>name</th>\n",
       "      <th>task1</th>\n",
       "      <th>task2</th>\n",
       "      <th>task3</th>\n",
       "      <th>task4</th>\n",
       "    </tr>\n",
       "  </thead>\n",
       "  <tbody>\n",
       "    <tr>\n",
       "      <th>0</th>\n",
       "      <td>1</td>\n",
       "      <td>paul patrylo</td>\n",
       "      <td>10</td>\n",
       "      <td>20</td>\n",
       "      <td>11</td>\n",
       "      <td>40</td>\n",
       "    </tr>\n",
       "    <tr>\n",
       "      <th>1</th>\n",
       "      <td>2</td>\n",
       "      <td>denys lukianchuk</td>\n",
       "      <td>20</td>\n",
       "      <td>10</td>\n",
       "      <td>25</td>\n",
       "      <td>30</td>\n",
       "    </tr>\n",
       "    <tr>\n",
       "      <th>2</th>\n",
       "      <td>3</td>\n",
       "      <td>max boyko</td>\n",
       "      <td>15</td>\n",
       "      <td>10</td>\n",
       "      <td>20</td>\n",
       "      <td>10</td>\n",
       "    </tr>\n",
       "  </tbody>\n",
       "</table>\n",
       "</div>"
      ],
      "text/plain": [
       "   studID              name  task1  task2  task3  task4\n",
       "0       1      paul patrylo     10     20     11     40\n",
       "1       2  denys lukianchuk     20     10     25     30\n",
       "2       3         max boyko     15     10     20     10"
      ]
     },
     "metadata": {},
     "output_type": "display_data"
    }
   ],
   "source": [
    "data = pd.merge(students,task01,on='studID',how='inner')\n",
    "data = data.merge(task02,on='studID',how='inner')\n",
    "data = data.merge(task03,on='studID',how='inner')\n",
    "data = data.merge(task04,on='studID',how='inner')\n",
    "display(data)"
   ]
  },
  {
   "cell_type": "code",
   "execution_count": 4,
   "metadata": {},
   "outputs": [
    {
     "data": {
      "text/html": [
       "<div>\n",
       "<style scoped>\n",
       "    .dataframe tbody tr th:only-of-type {\n",
       "        vertical-align: middle;\n",
       "    }\n",
       "\n",
       "    .dataframe tbody tr th {\n",
       "        vertical-align: top;\n",
       "    }\n",
       "\n",
       "    .dataframe thead th {\n",
       "        text-align: right;\n",
       "    }\n",
       "</style>\n",
       "<table border=\"1\" class=\"dataframe\">\n",
       "  <thead>\n",
       "    <tr style=\"text-align: right;\">\n",
       "      <th></th>\n",
       "      <th>studID</th>\n",
       "      <th>name</th>\n",
       "      <th>task1</th>\n",
       "      <th>task2</th>\n",
       "      <th>task3</th>\n",
       "      <th>task4</th>\n",
       "      <th>total</th>\n",
       "    </tr>\n",
       "  </thead>\n",
       "  <tbody>\n",
       "    <tr>\n",
       "      <th>0</th>\n",
       "      <td>1</td>\n",
       "      <td>paul patrylo</td>\n",
       "      <td>10</td>\n",
       "      <td>20</td>\n",
       "      <td>11</td>\n",
       "      <td>40</td>\n",
       "      <td>81</td>\n",
       "    </tr>\n",
       "    <tr>\n",
       "      <th>1</th>\n",
       "      <td>2</td>\n",
       "      <td>denys lukianchuk</td>\n",
       "      <td>20</td>\n",
       "      <td>10</td>\n",
       "      <td>25</td>\n",
       "      <td>30</td>\n",
       "      <td>85</td>\n",
       "    </tr>\n",
       "    <tr>\n",
       "      <th>2</th>\n",
       "      <td>3</td>\n",
       "      <td>max boyko</td>\n",
       "      <td>15</td>\n",
       "      <td>10</td>\n",
       "      <td>20</td>\n",
       "      <td>10</td>\n",
       "      <td>55</td>\n",
       "    </tr>\n",
       "  </tbody>\n",
       "</table>\n",
       "</div>"
      ],
      "text/plain": [
       "   studID              name  task1  task2  task3  task4  total\n",
       "0       1      paul patrylo     10     20     11     40     81\n",
       "1       2  denys lukianchuk     20     10     25     30     85\n",
       "2       3         max boyko     15     10     20     10     55"
      ]
     },
     "metadata": {},
     "output_type": "display_data"
    }
   ],
   "source": [
    "data['total'] = data['task1'] + data['task2'] + data['task3'] + data['task4']\n",
    "display(data)"
   ]
  },
  {
   "cell_type": "code",
   "execution_count": 5,
   "metadata": {},
   "outputs": [
    {
     "data": {
      "application/vnd.jupyter.widget-view+json": {
       "model_id": "bdc39d4272994dd4ab395ff4b460c245",
       "version_major": 2,
       "version_minor": 0
      },
      "text/plain": [
       "interactive(children=(Dropdown(description='Student:', options=('task1', 'task2', 'task3', 'task4', 'total'), …"
      ]
     },
     "metadata": {},
     "output_type": "display_data"
    }
   ],
   "source": [
    "wd = widgets.Dropdown(\n",
    "    options=data.columns[2:],  # Всі колонки, окрім 'Student'\n",
    "    description = 'Student:',\n",
    "    disabled = False,\n",
    ")\n",
    "\n",
    "def show(value):\n",
    "    if value in data.columns:  # Перевіряємо, чи існує обрана колонка\n",
    "        ranked_data = data[['name', value]].sort_values(by=value, ascending=False)\n",
    "        ranked_data['Rank'] = range(1, len(ranked_data) + 1)  # Додаємо місце у рейтингу\n",
    "        display(ranked_data)\n",
    "\n",
    "widget = widgets.interactive(show,value=wd)\n",
    "\n",
    "display(widget)"
   ]
  },
  {
   "cell_type": "code",
   "execution_count": 6,
   "metadata": {},
   "outputs": [
    {
     "data": {
      "application/vnd.jupyter.widget-view+json": {
       "model_id": "983a5c6c7d5d49bca4e6c1f389ff1c24",
       "version_major": 2,
       "version_minor": 0
      },
      "text/plain": [
       "interactive(children=(Dropdown(description='Student:', options=('task1', 'task2', 'task3', 'task4', 'total'), …"
      ]
     },
     "metadata": {},
     "output_type": "display_data"
    }
   ],
   "source": [
    "wd1 = widgets.Dropdown(\n",
    "    options=data.columns[2:],  # Всі колонки, окрім 'Student'\n",
    "    description = 'Student:',\n",
    "    disabled = False,\n",
    ")\n",
    "def show_graph(value):\n",
    "    if value in data.columns: \n",
    "        plt.bar(data['name'],data[value],color='green')\n",
    "        plt.xlabel('Students')\n",
    "        plt.ylabel('Mark')\n",
    "        plt.title(f'Mark distribution for {value}')\n",
    "        plt.show()\n",
    "widget1 = widgets.interactive(show_graph,value=wd1)\n",
    "display(widget1)"
   ]
  },
  {
   "cell_type": "code",
   "execution_count": 7,
   "metadata": {},
   "outputs": [
    {
     "data": {
      "application/vnd.jupyter.widget-view+json": {
       "model_id": "59d0f6f23f874787ac68c4cad7dfcfeb",
       "version_major": 2,
       "version_minor": 0
      },
      "text/plain": [
       "interactive(children=(Dropdown(description='Student:', options=('task1', 'task2', 'task3', 'task4', 'total'), …"
      ]
     },
     "metadata": {},
     "output_type": "display_data"
    }
   ],
   "source": [
    "wd2 = widgets.Dropdown(\n",
    "    options=data.columns[2:],  # Всі колонки, окрім 'Student'\n",
    "    description = 'Student:',\n",
    "    disabled = False,\n",
    ")\n",
    "def average_mark(value):\n",
    "    if value in data.columns: \n",
    "        result = data[value].sum()\n",
    "        result = result / len(data['name'])\n",
    "        display(result)\n",
    "widget2 = widgets.interactive(average_mark,value=wd2)\n",
    "display(widget2)"
   ]
  },
  {
   "cell_type": "code",
   "execution_count": 8,
   "metadata": {},
   "outputs": [
    {
     "data": {
      "image/png": "[encoded data removed]",
      "text/plain": [
       "<Figure size 640x480 with 1 Axes>"
      ]
     },
     "metadata": {},
     "output_type": "display_data"
    }
   ],
   "source": [
    "def total_graph():\n",
    "    plt.bar(data['name'],data['total'],color='red')\n",
    "    plt.xlabel('Students')\n",
    "    plt.ylabel('Total Mark')\n",
    "    plt.title('Total Mark Distribution')\n",
    "    plt.show()\n",
    "total_graph()"
   ]
  },
  {
   "cell_type": "code",
   "execution_count": 9,
   "metadata": {},
   "outputs": [
    {
     "data": {
      "text/html": [
       "<div>\n",
       "<style scoped>\n",
       "    .dataframe tbody tr th:only-of-type {\n",
       "        vertical-align: middle;\n",
       "    }\n",
       "\n",
       "    .dataframe tbody tr th {\n",
       "        vertical-align: top;\n",
       "    }\n",
       "\n",
       "    .dataframe thead th {\n",
       "        text-align: right;\n",
       "    }\n",
       "</style>\n",
       "<table border=\"1\" class=\"dataframe\">\n",
       "  <thead>\n",
       "    <tr style=\"text-align: right;\">\n",
       "      <th></th>\n",
       "      <th>studID</th>\n",
       "      <th>name</th>\n",
       "      <th>task1</th>\n",
       "      <th>task2</th>\n",
       "      <th>task3</th>\n",
       "      <th>task4</th>\n",
       "      <th>total</th>\n",
       "      <th>bologne</th>\n",
       "    </tr>\n",
       "  </thead>\n",
       "  <tbody>\n",
       "    <tr>\n",
       "      <th>0</th>\n",
       "      <td>1</td>\n",
       "      <td>paul patrylo</td>\n",
       "      <td>10</td>\n",
       "      <td>20</td>\n",
       "      <td>11</td>\n",
       "      <td>40</td>\n",
       "      <td>81</td>\n",
       "      <td>B</td>\n",
       "    </tr>\n",
       "    <tr>\n",
       "      <th>1</th>\n",
       "      <td>2</td>\n",
       "      <td>denys lukianchuk</td>\n",
       "      <td>20</td>\n",
       "      <td>10</td>\n",
       "      <td>25</td>\n",
       "      <td>30</td>\n",
       "      <td>85</td>\n",
       "      <td>B</td>\n",
       "    </tr>\n",
       "    <tr>\n",
       "      <th>2</th>\n",
       "      <td>3</td>\n",
       "      <td>max boyko</td>\n",
       "      <td>15</td>\n",
       "      <td>10</td>\n",
       "      <td>20</td>\n",
       "      <td>10</td>\n",
       "      <td>55</td>\n",
       "      <td>E</td>\n",
       "    </tr>\n",
       "  </tbody>\n",
       "</table>\n",
       "</div>"
      ],
      "text/plain": [
       "   studID              name  task1  task2  task3  task4  total bologne\n",
       "0       1      paul patrylo     10     20     11     40     81       B\n",
       "1       2  denys lukianchuk     20     10     25     30     85       B\n",
       "2       3         max boyko     15     10     20     10     55       E"
      ]
     },
     "metadata": {},
     "output_type": "display_data"
    }
   ],
   "source": [
    "def bologne():\n",
    "    \n",
    "    data.loc[data['total']>90,'bologne'] = 'A'\n",
    "    data.loc[(data['total']>80) & (data['total']<=90),'bologne'] = 'B'\n",
    "    data.loc[(data['total']>70) & (data['total']<=80),'bologne'] = 'C'\n",
    "    data.loc[(data['total']>60) & (data['total']<=70),'bologne'] = 'D'\n",
    "    data.loc[(data['total']>50) & (data['total']<=60),'bologne'] = 'E'\n",
    "    data.loc[data['total']<=50,'bologne'] = 'F'\n",
    "\n",
    "    display(data)\n",
    "\n",
    "bologne()"
   ]
  },
  {
   "cell_type": "code",
   "execution_count": 10,
   "metadata": {},
   "outputs": [
    {
     "data": {
      "application/vnd.jupyter.widget-view+json": {
       "model_id": "050f6d50fd2b471db07775e85d387af5",
       "version_major": 2,
       "version_minor": 0
      },
      "text/plain": [
       "interactive(children=(Dropdown(description='Bologne:', options=('B', 'E'), value='B'), Output()), _dom_classes…"
      ]
     },
     "metadata": {},
     "output_type": "display_data"
    }
   ],
   "source": [
    "wd3 = widgets.Dropdown(\n",
    "    options=data['bologne'].unique(),\n",
    "    description = 'Bologne:',\n",
    "    disabled = False,\n",
    ")\n",
    "\n",
    "def show_bologne(value):\n",
    "    if value in data['bologne'].values:\n",
    "        filtred = data[data['bologne'] == value]\n",
    "        if not filtred.empty:\n",
    "            result = filtred[['name','total']]\n",
    "            result = result.sort_values(by='total', ascending=False)\n",
    "            display(result)\n",
    "        else:\n",
    "            print(f'Немає студента з оцінкою {data[value]}')\n",
    "widget3 = widgets.interactive(show_bologne, value=wd3)\n",
    "display(widget3)"
   ]
  },
  {
   "cell_type": "code",
   "execution_count": 11,
   "metadata": {},
   "outputs": [
    {
     "data": {
      "text/html": [
       "<div>\n",
       "<style scoped>\n",
       "    .dataframe tbody tr th:only-of-type {\n",
       "        vertical-align: middle;\n",
       "    }\n",
       "\n",
       "    .dataframe tbody tr th {\n",
       "        vertical-align: top;\n",
       "    }\n",
       "\n",
       "    .dataframe thead th {\n",
       "        text-align: right;\n",
       "    }\n",
       "</style>\n",
       "<table border=\"1\" class=\"dataframe\">\n",
       "  <thead>\n",
       "    <tr style=\"text-align: right;\">\n",
       "      <th></th>\n",
       "      <th>task1</th>\n",
       "      <th>task2</th>\n",
       "      <th>task3</th>\n",
       "      <th>task4</th>\n",
       "    </tr>\n",
       "  </thead>\n",
       "  <tbody>\n",
       "    <tr>\n",
       "      <th>0</th>\n",
       "      <td>10</td>\n",
       "      <td>20</td>\n",
       "      <td>11</td>\n",
       "      <td>40</td>\n",
       "    </tr>\n",
       "  </tbody>\n",
       "</table>\n",
       "</div>"
      ],
      "text/plain": [
       "   task1  task2  task3  task4\n",
       "0     10     20     11     40"
      ]
     },
     "metadata": {},
     "output_type": "display_data"
    },
    {
     "data": {
      "text/plain": [
       "40"
      ]
     },
     "metadata": {},
     "output_type": "display_data"
    }
   ],
   "source": [
    "filtered_row = data.loc[data['name'] == 'paul patrylo', data.columns[2:6]]\n",
    "test = filtered_row.max(axis=1).values[0]\n",
    "\n",
    "display(filtered_row)\n",
    "display(test.item())"
   ]
  },
  {
   "cell_type": "code",
   "execution_count": 12,
   "metadata": {},
   "outputs": [
    {
     "data": {
      "application/vnd.jupyter.widget-view+json": {
       "model_id": "1571943667c64018baa70995df1efd49",
       "version_major": 2,
       "version_minor": 0
      },
      "text/plain": [
       "interactive(children=(Dropdown(description='Student:', options=('paul patrylo', 'denys lukianchuk', 'max boyko…"
      ]
     },
     "metadata": {},
     "output_type": "display_data"
    }
   ],
   "source": [
    "wd4 = widgets.Dropdown(\n",
    "    options=data['name'],\n",
    "    description = 'Student:',\n",
    "    disabled = False,\n",
    ")\n",
    "def min_max(value):\n",
    "    if value in data['name'].values:\n",
    "        filtered = data[data['name'] == value]\n",
    "        if not filtered.empty:\n",
    "            result = filtered[['task1','task2','task3','task4']]\n",
    "            min_value = result.min(axis=1).values[0]\n",
    "            min_column = filtered_row.idxmin(axis=1).values[0]\n",
    "            max_value = result.max(axis=1).values[0]\n",
    "            max_column = filtered_row.idxmax(axis=1).values[0]\n",
    "\n",
    "            display(f'Мінімальна оцінка: {min_value} за завдання: {min_column}, Максимальна оцінка: {max_value}, за завдання: {max_column}')\n",
    "        else:\n",
    "            print(f'Немає студента з iменем {value}')\n",
    "\n",
    "widget4 = widgets.interactive(min_max, value=wd4)\n",
    "\n",
    "display(widget4)\n"
   ]
  },
  {
   "cell_type": "code",
   "execution_count": 18,
   "metadata": {},
   "outputs": [
    {
     "name": "stdout",
     "output_type": "stream",
     "text": [
      "ID: 1, Mark: 10\n",
      "ID: 2, Mark: 20\n",
      "ID: 3, Mark: 15\n"
     ]
    }
   ],
   "source": [
    "df = pd.read_csv('task01.csv')\n",
    "\n",
    "class Task:\n",
    "    def __init__(self, id, mark):\n",
    "        self._id = id\n",
    "        self._mark = mark\n",
    "\n",
    "    @property\n",
    "    def id(self):\n",
    "        return self._id\n",
    "\n",
    "    @id.setter\n",
    "    def id(self, value):\n",
    "        self._id = value\n",
    "\n",
    "    @property\n",
    "    def mark(self):\n",
    "        return self._mark\n",
    "\n",
    "    @mark.setter\n",
    "    def mark(self, value):\n",
    "        if 0 <= value <= 100:\n",
    "            self._mark = value\n",
    "        else:\n",
    "            raise ValueError('Mark must be between 0 and 100.')\n",
    "\n",
    "# Створення об'єктів Task\n",
    "task = [Task(row['studID'], row['task1']) for _, row in df.iterrows()]\n",
    "\n",
    "# Виведення результатів\n",
    "for t in task:\n",
    "    print(f'ID: {t.id}, Mark: {t.mark}')"
   ]
  },
  {
   "cell_type": "code",
   "execution_count": 17,
   "metadata": {},
   "outputs": [
    {
     "name": "stderr",
     "output_type": "stream",
     "text": [
      ".\n",
      "----------------------------------------------------------------------\n",
      "Ran 1 test in 0.002s\n",
      "\n",
      "OK\n"
     ]
    }
   ],
   "source": [
    "import unittest\n",
    "\n",
    "class TestTask(unittest.TestCase):\n",
    "    def setUp(self):\n",
    "        self.task = Task(1, 90)\n",
    "\n",
    "    def test_invalid_mark(self):\n",
    "        with self.assertRaises(ValueError):\n",
    "            self.task.mark = -1\n",
    "\n",
    "\n",
    "if __name__ == '__main__':\n",
    "    unittest.main(argv=[''], exit=False)"
   ]
  }
 ],
 "metadata": {
  "kernelspec": {
   "display_name": "Python 3",
   "language": "python",
   "name": "python3"
  },
  "language_info": {
   "codemirror_mode": {
    "name": "ipython",
    "version": 3
   },
   "file_extension": ".py",
   "mimetype": "text/x-python",
   "name": "python",
   "nbconvert_exporter": "python",
   "pygments_lexer": "ipython3",
   "version": "3.11.5"
  }
 },
 "nbformat": 4,
 "nbformat_minor": 2
}

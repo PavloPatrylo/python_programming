{
 "cells": [
  {
   "cell_type": "code",
   "execution_count": 2,
   "metadata": {},
   "outputs": [
    {
     "name": "stdout",
     "output_type": "stream",
     "text": [
      "   id    Лікар\n",
      "0   1   Іванов\n",
      "1   2   Петров\n",
      "2   3  Сидоров\n",
      "   id         Назва  Ціна\n",
      "0   1        Чистка   300\n",
      "1   2   Пломбування   500\n",
      "2   3  Протезування  2000\n",
      "   id   Пацієнт  Народження\n",
      "0   1  Миколаїв  2005-05-10\n",
      "1   2  Іваненко  1980-12-24\n",
      "2   3   Семенов  1945-07-19\n",
      "         date  пацієнт_id  лікар_id  операція_id  кількість\n",
      "0  2024-01-10           1         1            2          1\n",
      "1  2024-01-15           2         2            1          2\n",
      "2  2024-01-20           3         3            3          1\n",
      "         date  пацієнт_id  лікар_id  операція_id  кількість\n",
      "0  2024-01-11           1         1            2          1\n",
      "1  2024-01-17           2         2            2          2\n",
      "2  2024-01-21           3         3            2          2\n"
     ]
    }
   ],
   "source": [
    "import pandas as pd\n",
    "from datetime import datetime\n",
    "import matplotlib.pyplot as plt\n",
    "\n",
    "doctors = pd.read_csv('doctors.csv')\n",
    "operations = pd.read_csv('operations.csv')\n",
    "patients = pd.read_csv('patients.csv')\n",
    "appointments1 = pd.read_csv('appointments.csv')\n",
    "appointments2 = pd.read_csv('appointments2.csv')\n",
    "\n",
    "\n",
    "print(doctors)\n",
    "\n",
    "print(operations)   \n",
    "\n",
    "print(patients)\n",
    "\n",
    "print(appointments1)\n",
    "\n",
    "print(appointments2)\n",
    "\n",
    "appointments = pd.concat([appointments1, appointments2], ignore_index=True)\n",
    "\n"
   ]
  },
  {
   "cell_type": "code",
   "execution_count": 3,
   "metadata": {},
   "outputs": [
    {
     "name": "stdout",
     "output_type": "stream",
     "text": [
      "   id   Пацієнт  вік\n",
      "0   1  Миколаїв   19\n",
      "1   2  Іваненко   44\n",
      "2   3   Семенов   79\n"
     ]
    }
   ],
   "source": [
    "birthdate = patients['Народження']\n",
    "\n",
    "patients['вік'] = datetime.now().year - pd.to_datetime(birthdate).dt.year\n",
    "patients.drop('Народження', axis=1, inplace=True) \n",
    "print(patients)"
   ]
  },
  {
   "cell_type": "code",
   "execution_count": 4,
   "metadata": {},
   "outputs": [
    {
     "name": "stdout",
     "output_type": "stream",
     "text": [
      "     Лікар   Пацієнт  вік         Назва  Ціна  кількість        date\n",
      "0   Іванов  Миколаїв   19   Пломбування   500          1  2024-01-10\n",
      "1   Іванов  Миколаїв   19   Пломбування   500          1  2024-01-11\n",
      "2   Петров  Іваненко   44        Чистка   300          2  2024-01-15\n",
      "3   Петров  Іваненко   44   Пломбування   500          2  2024-01-17\n",
      "4  Сидоров   Семенов   79   Пломбування   500          2  2024-01-21\n",
      "5  Сидоров   Семенов   79  Протезування  2000          1  2024-01-20\n"
     ]
    }
   ],
   "source": [
    "data2 = pd.merge(doctors, appointments, left_on='id', right_on='лікар_id', how='inner')\n",
    "\n",
    "data1 = pd.merge(operations, data2, left_on='id', right_on='операція_id', how='inner')\n",
    "\n",
    "data1 =pd.merge(operations, data2, left_on='id', right_on='операція_id', how='inner')\n",
    "\n",
    "\n",
    "data = pd.merge(patients, data1, left_on='id', right_on='пацієнт_id', how='inner')\n",
    "\n",
    "# print(data)\n",
    "data.drop(['id_x','id_y','пацієнт_id','лікар_id','операція_id'], axis=1, inplace=True) \n",
    "\n",
    "data = data[['Лікар', 'Пацієнт','вік' ,'Назва', 'Ціна','кількість', 'date']]\n",
    "print(data)"
   ]
  },
  {
   "cell_type": "code",
   "execution_count": 5,
   "metadata": {},
   "outputs": [
    {
     "name": "stdout",
     "output_type": "stream",
     "text": [
      "     Лікар  Дохід\n",
      "0   Іванов   1000\n",
      "1   Петров   1600\n",
      "2  Сидоров   3000\n"
     ]
    }
   ],
   "source": [
    "def calculate():\n",
    "    data['Дохід'] = data['Ціна'] * data['кількість']\n",
    "    filtred = data.groupby('Лікар')['Дохід'].sum().reset_index()\n",
    "    print(filtred)\n",
    "    # data.drop('Дохід', axis=1, inplace=True) \n",
    "\n",
    "calculate()"
   ]
  },
  {
   "cell_type": "code",
   "execution_count": 6,
   "metadata": {},
   "outputs": [
    {
     "data": {
      "image/png": "[encoded data removed]",
      "text/plain": [
       "<Figure size 640x480 with 1 Axes>"
      ]
     },
     "metadata": {},
     "output_type": "display_data"
    }
   ],
   "source": [
    "def bar_graph():\n",
    "    plt.bar(data['Лікар'], data['Дохід'], color='green') \n",
    "    plt.xlabel('Лікар')\n",
    "    plt.ylabel('Дохід')\n",
    "    plt.title('Дохід за лікарями')\n",
    "    plt.show()\n",
    "bar_graph()"
   ]
  },
  {
   "cell_type": "code",
   "execution_count": 9,
   "metadata": {},
   "outputs": [
    {
     "name": "stdout",
     "output_type": "stream",
     "text": [
      "ID: 1, surname: Іванов\n",
      "ID: 2, surname: Петров\n",
      "ID: 3, surname: Сидоров\n"
     ]
    }
   ],
   "source": [
    "df = pd.read_csv('doctors.csv')\n",
    "\n",
    "class DOCTOR:\n",
    "    def __init__(self,id,surname):\n",
    "        self._id=id\n",
    "        self._surname=surname\n",
    "\n",
    "    @property\n",
    "    def id(self):\n",
    "        return self._id\n",
    "    \n",
    "    @id.setter\n",
    "    def id(self,value):\n",
    "        self._id=value\n",
    "\n",
    "    @property\n",
    "    def surname(self):\n",
    "        return self._surname\n",
    "    \n",
    "    @surname.setter\n",
    "    def surname(self,value):\n",
    "        self._surname=value\n",
    "\n",
    "doctor = [DOCTOR(row['id'], row['Лікар']) for _, row in df.iterrows()]\n",
    "for d in doctor:\n",
    "    print(f'ID: {d.id}, surname: {d.surname}')"
   ]
  },
  {
   "cell_type": "code",
   "execution_count": 10,
   "metadata": {},
   "outputs": [
    {
     "name": "stderr",
     "output_type": "stream",
     "text": [
      "....\n",
      "----------------------------------------------------------------------\n",
      "Ran 4 tests in 0.003s\n",
      "\n",
      "OK\n"
     ]
    }
   ],
   "source": [
    "import unittest\n",
    "\n",
    "class TestDoctor(unittest.TestCase):\n",
    "    def setUp(self):\n",
    "        self.doctor = DOCTOR(1, 'Joe')\n",
    "    def test_get_id(self):\n",
    "        self.assertEqual(self.doctor.id,1)\n",
    "    def test_get_surname(self):\n",
    "        self.assertEqual(self.doctor.surname,'Joe')\n",
    "    def test_set_id(self):\n",
    "        self.doctor.id = 2\n",
    "        self.assertEqual(self.doctor.id,2)\n",
    "    def test_set_surname(self):\n",
    "        self.doctor.surname = 'Paul'\n",
    "        self.assertEqual(self.doctor.surname, 'Paul')\n",
    "if __name__ == '__main__':\n",
    "    unittest.main(argv=[''], exit=False)"
   ]
  }
 ],
 "metadata": {
  "kernelspec": {
   "display_name": "Python 3",
   "language": "python",
   "name": "python3"
  },
  "language_info": {
   "codemirror_mode": {
    "name": "ipython",
    "version": 3
   },
   "file_extension": ".py",
   "mimetype": "text/x-python",
   "name": "python",
   "nbconvert_exporter": "python",
   "pygments_lexer": "ipython3",
   "version": "3.11.5"
  }
 },
 "nbformat": 4,
 "nbformat_minor": 2
}
